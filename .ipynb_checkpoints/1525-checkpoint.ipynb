{
 "cells": [
  {
   "cell_type": "code",
   "execution_count": 15,
   "id": "a95858f7",
   "metadata": {},
   "outputs": [],
   "source": [
    "input = '193425786'\n",
    "dist = dict()"
   ]
  },
  {
   "cell_type": "code",
   "execution_count": 16,
   "id": "52a32807",
   "metadata": {},
   "outputs": [],
   "source": [
    "def bfs():\n",
    "    queue = []\n",
    "    queue.append(int(input)) # 숫자 자료형으로 queue에 대입\n",
    "    dist[int(input)] = 0 # 방문 횟수를 딕셔너리형으로 저장\n",
    "    \n",
    "    while queue:\n",
    "        a = queue.pop(0)\n",
    "        if a == 123456789: \n",
    "            return dist[a] # 완료 되면 딕셔너리에서 이동 횟수 출력\n",
    "\n",
    "        arr = str(a) # 문자형으로 형태 변환\n",
    "        k = arr.find('9') # 9의 위치 찾기\n",
    "        x,y = k//3, k%3 # 2차원 배열의 위치를 저장\n",
    "        dx = [1,-1,0,0]\n",
    "        dy = [0,0,1,-1]\n",
    "        for i in range(4):\n",
    "            nx = x + dx[i] # 좌우 \n",
    "            ny = y + dy[i] # 상하\n",
    "            \n",
    "            if 0 <= nx < 3 and 0 <= ny < 3:\n",
    "                nk = nx*3 +ny # 문자 자료형에서 2차원 자료형 좌표 대입\n",
    "                ns = list(arr) # 리스 자료형으로 형태 변환\n",
    "                ns[k], ns[nk] = ns[nk], ns[k] # 9의 위치를 변환해가면서 함 \n",
    "                # 0을 사용하게 되면 숫자 자료형에서 0이 맨 앞에 오면 사라짐\n",
    "                nd = int(''.join(ns)) # 숫자 자료형으로 변환\n",
    "                if not dist.get(nd): # dict vaule 출력\n",
    "                    dist[nd] = dist[a] + 1 # 전에 방문 횟수에서 + 1\n",
    "                    queue.append(nd) # queue에 대입 \n",
    "                    \n",
    "    return -1"
   ]
  },
  {
   "cell_type": "code",
   "execution_count": 17,
   "id": "c20d697d",
   "metadata": {},
   "outputs": [
    {
     "data": {
      "text/plain": [
       "3"
      ]
     },
     "execution_count": 17,
     "metadata": {},
     "output_type": "execute_result"
    }
   ],
   "source": [
    "bfs()"
   ]
  }
 ],
 "metadata": {
  "kernelspec": {
   "display_name": "Python 3",
   "language": "python",
   "name": "python3"
  },
  "language_info": {
   "codemirror_mode": {
    "name": "ipython",
    "version": 3
   },
   "file_extension": ".py",
   "mimetype": "text/x-python",
   "name": "python",
   "nbconvert_exporter": "python",
   "pygments_lexer": "ipython3",
   "version": "3.7.11"
  }
 },
 "nbformat": 4,
 "nbformat_minor": 5
}
