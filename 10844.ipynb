{
 "cells": [
  {
   "cell_type": "code",
   "execution_count": 1,
   "id": "e026e14c",
   "metadata": {},
   "outputs": [],
   "source": [
    "n, m = 5, 17"
   ]
  },
  {
   "cell_type": "code",
   "execution_count": 2,
   "id": "1cb58052",
   "metadata": {},
   "outputs": [],
   "source": [
    "graph = [0] * 5000"
   ]
  },
  {
   "cell_type": "code",
   "execution_count": 3,
   "id": "73e7df34",
   "metadata": {},
   "outputs": [],
   "source": [
    "def bfs(n,m,graph):\n",
    "    queue = []\n",
    "    queue.append(n)\n",
    "    while queue:\n",
    "        x = queue.pop(0)\n",
    "        if x == m:\n",
    "            return graph[x]\n",
    "            \n",
    "        for i in (x-1, x+1, 2*x):\n",
    "            if i >= 0 and not graph[i]:\n",
    "                graph[i] = graph[x] + 1\n",
    "                queue.append(i)\n",
    "                "
   ]
  },
  {
   "cell_type": "code",
   "execution_count": 4,
   "id": "b2730b74",
   "metadata": {},
   "outputs": [
    {
     "data": {
      "text/plain": [
       "4"
      ]
     },
     "execution_count": 4,
     "metadata": {},
     "output_type": "execute_result"
    }
   ],
   "source": [
    "bfs(n,m,graph)"
   ]
  },
  {
   "cell_type": "code",
   "execution_count": 6,
   "id": "ae092a6e",
   "metadata": {},
   "outputs": [
    {
     "data": {
      "text/plain": [
       "[0,\n",
       " 5,\n",
       " 4,\n",
       " 3,\n",
       " 2,\n",
       " 1,\n",
       " 0,\n",
       " 0,\n",
       " 0,\n",
       " 0,\n",
       " 0,\n",
       " 0,\n",
       " 0,\n",
       " 0,\n",
       " 0,\n",
       " 0,\n",
       " 0,\n",
       " 0,\n",
       " 0,\n",
       " 0,\n",
       " 0,\n",
       " 0,\n",
       " 0,\n",
       " 0,\n",
       " 0,\n",
       " 0,\n",
       " 0,\n",
       " 0,\n",
       " 0,\n",
       " 0,\n",
       " 0,\n",
       " 0,\n",
       " 0,\n",
       " 0,\n",
       " 0,\n",
       " 0,\n",
       " 0,\n",
       " 0,\n",
       " 0,\n",
       " 0,\n",
       " 0,\n",
       " 0,\n",
       " 0,\n",
       " 0,\n",
       " 0,\n",
       " 0,\n",
       " 0,\n",
       " 0,\n",
       " 0,\n",
       " 0]"
      ]
     },
     "execution_count": 6,
     "metadata": {},
     "output_type": "execute_result"
    }
   ],
   "source": [
    "graph"
   ]
  },
  {
   "cell_type": "code",
   "execution_count": null,
   "id": "2ff92924",
   "metadata": {},
   "outputs": [],
   "source": []
  }
 ],
 "metadata": {
  "kernelspec": {
   "display_name": "Python 3",
   "language": "python",
   "name": "python3"
  },
  "language_info": {
   "codemirror_mode": {
    "name": "ipython",
    "version": 3
   },
   "file_extension": ".py",
   "mimetype": "text/x-python",
   "name": "python",
   "nbconvert_exporter": "python",
   "pygments_lexer": "ipython3",
   "version": "3.7.11"
  }
 },
 "nbformat": 4,
 "nbformat_minor": 5
}
