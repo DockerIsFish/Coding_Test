{
 "cells": [
  {
   "cell_type": "markdown",
   "id": "21c59bcc",
   "metadata": {},
   "source": [
    "# 주사위 게임\n",
    "---\n",
    "1에서부터 6까지의 눈을 가진 3개의 주사위를 던져서 다음과 같은 규칙에 따라 상금을 받는 게임이 있다.\n",
    "\n",
    "같은 눈이 3개가 나오면 10,000원+(같은 눈)×1,000원의 상금을 받게 된다.\n",
    "\n",
    "같은 눈이 2개만 나오는 경우에는 1,000원+(같은 눈)×100원의 상금을 받게 된다. \n",
    "\n",
    "모두 다른 눈이 나오는 경우에는 (그 중 가장 큰 눈)×100원의 상금을 받게 된다.  \n",
    "\n",
    "예를 들어, 3개의 눈 3, 3, 6이 주어지면 상금은 1,000+3×100으로 계산되어 1,300원을 받게 된다. 또 3개의 눈이 2, 2, 2로 주어지면 \n",
    "\n",
    "10,000+2×1,000 으로 계산되어 12,000원을 받게 된다. 3개의 눈이 6, 2, 5로 주어지면 그 중 가장 큰 값이 6이므로 6×100으로 계산되어 600원을 상금으로 받게 된다.\n",
    "\n",
    "N(2 ≤ N ≤ 1,000)명이 주사위 게임에 참여하였을 때, 가장 많은 상금을 받은 사람의 상금을 출력하는 프로그램을 작성하시오.\n",
    "\n",
    "---\n",
    "### 입력\n",
    "첫째 줄에는 참여하는 사람 수 N이 주어지고 그 다음 줄부터 N개의 줄에 사람들이 주사위를 던진 3개의 눈이 빈칸을 사이에 두고 각각 주어진다. \n",
    "\n",
    "---\n",
    "### 출력\n",
    "첫째 줄에 가장 많은 상금을 받은 사람의 상금을 출력한다.\n",
    "\n",
    "---\n",
    "### 예제 입력\n",
    "3\n",
    "\n",
    "3 3 6\n",
    "\n",
    "2 2 2\n",
    "\n",
    "6 2 5\n",
    "\n",
    "---\n",
    "### 예제 출력\n",
    "12000"
   ]
  },
  {
   "cell_type": "code",
   "execution_count": 4,
   "id": "2acbcd95",
   "metadata": {},
   "outputs": [
    {
     "name": "stdout",
     "output_type": "stream",
     "text": [
      "3\n",
      "3 3 6\n",
      "2 2 2\n",
      "6 2 1\n",
      "12000\n"
     ]
    }
   ],
   "source": [
    "n = int(input())\n",
    "ans = 0\n",
    "for i in range(n):\n",
    "    a, b, c = list(map(int, input().split()))\n",
    "    \n",
    "    # 같은눈 3개\n",
    "    if a==b and b==c:\n",
    "        tmp = 10000 + 1000*a\n",
    "    \n",
    "    # 같은눈 2개\n",
    "    elif a==b and a!=c:\n",
    "        tmp = 1000 + 100*a\n",
    "    elif b==c and b!=c:\n",
    "        tmp = 1000 + 100*b\n",
    "    elif c==a and c!=b:\n",
    "        tmp = 1000 + 100*c\n",
    "    \n",
    "    # 모두 다른 눈\n",
    "    else:\n",
    "        tmp = max(a,b,c)*100\n",
    "    \n",
    "    if ans<tmp:\n",
    "        ans = tmp\n",
    "\n",
    "print(ans)"
   ]
  },
  {
   "cell_type": "markdown",
   "id": "e6afa09f",
   "metadata": {},
   "source": [
    "---\n",
    "### 코드 리뷰\n",
    "3개의 수를 받아서 같은 수, 다른 수를 확인하는 문제이다.\n",
    "\n",
    "처음엔 세 사람의 3개의 주사위 수를 2차원 리스트로 받아서 해보려고 했는데 2중 for문이 쓰이고 시간 복잡도가 커질거 같아서 안하였다.\n",
    "\n",
    "그래서 한번에 3개의 주사위 수를 입력 받아 상금을 저장하고, 다음 사람의 상금과 비교하는 식으로 문제를 풀었다.\n",
    "\n",
    "쉽고 사소하지만 tmp 활용이 중요하다고 생각한다."
   ]
  }
 ],
 "metadata": {
  "kernelspec": {
   "display_name": "Python 3",
   "language": "python",
   "name": "python3"
  },
  "language_info": {
   "codemirror_mode": {
    "name": "ipython",
    "version": 3
   },
   "file_extension": ".py",
   "mimetype": "text/x-python",
   "name": "python",
   "nbconvert_exporter": "python",
   "pygments_lexer": "ipython3",
   "version": "3.8.8"
  }
 },
 "nbformat": 4,
 "nbformat_minor": 5
}
