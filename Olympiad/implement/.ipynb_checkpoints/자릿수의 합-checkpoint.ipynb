{
 "cells": [
  {
   "cell_type": "markdown",
   "id": "0b167618",
   "metadata": {},
   "source": [
    "# 자릿수의 합\n",
    "---\n",
    "## 문제\n",
    "N개의 자연수가 입력되면 각 자연수의 자릿수의 합을 구하고, 그 합이 최대인 자연수를 출력하는 프로그램을 작성하세요.\n",
    "\n",
    "---\n",
    "### 입력설명\n",
    "첫 줄에 자연수의 개수 N(3<=N<=100)이 주어지고, 그 다음 줄에 N개의 자연수가 주어진다.\n",
    "각 자연수의 크기는 10,000,000를 넘지 않는다.\n",
    "\n",
    "---\n",
    "### 출력설명\n",
    "자릿수의 합이 최대인 자연수를 출력한다.\n",
    "\n",
    "---\n",
    "### 입력예제 \n",
    "3\n",
    "\n",
    "25 15232 97\n",
    "\n",
    "---\n",
    "### 출력예제 \n",
    "97\n",
    "\n",
    "---\n",
    "# 코드"
   ]
  },
  {
   "cell_type": "code",
   "execution_count": 1,
   "id": "7246af7d",
   "metadata": {},
   "outputs": [
    {
     "name": "stdout",
     "output_type": "stream",
     "text": [
      "3\n",
      "25 15232 97\n",
      "97\n"
     ]
    }
   ],
   "source": [
    "# N개 자연수 입력\n",
    "N = int(input())\n",
    "N_list = list(map(int,input().split()))\n",
    "tmp = 0 \n",
    "\n",
    "# 자릿수의 합\n",
    "for i in range(N):\n",
    "    sum_ = sum([int(j) for j in str(N_list[i])])\n",
    "    if sum_ > tmp:\n",
    "        tmp = sum_\n",
    "        ans = N_list[i]\n",
    "\n",
    "print(ans)"
   ]
  },
  {
   "cell_type": "markdown",
   "id": "4c9ef9d3",
   "metadata": {},
   "source": [
    "---\n",
    "# 코드 설명 및 리뷰\n",
    "\n",
    "\n",
    "### 총합 구하기\n",
    "sum_ = sum([int(j) for j in str(N_list[i])])\n",
    "\n",
    "정수를 문자열로 바꾸면 \n",
    "\n",
    "123이 '1','2','3' 으로 나뉘게 되고\n",
    "\n",
    "이를 다시 int형으로 변환하면 쉽게 각 자리수의 총합을 바꿀 수 있다.\n",
    "\n",
    "처음엔 100의 자리, 10의 자리 씩 계속 나눠서 구해볼까 생각했는데 좀더 심플한 방법인 듯 하다.\n",
    "\n"
   ]
  },
  {
   "cell_type": "code",
   "execution_count": null,
   "id": "b11d0c98",
   "metadata": {},
   "outputs": [],
   "source": []
  }
 ],
 "metadata": {
  "kernelspec": {
   "display_name": "Python 3",
   "language": "python",
   "name": "python3"
  },
  "language_info": {
   "codemirror_mode": {
    "name": "ipython",
    "version": 3
   },
   "file_extension": ".py",
   "mimetype": "text/x-python",
   "name": "python",
   "nbconvert_exporter": "python",
   "pygments_lexer": "ipython3",
   "version": "3.8.8"
  }
 },
 "nbformat": 4,
 "nbformat_minor": 5
}
