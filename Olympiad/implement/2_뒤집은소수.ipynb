{
 "cells": [
  {
   "cell_type": "markdown",
   "id": "10fe4488",
   "metadata": {},
   "source": [
    "# 뒤집은 소수\n",
    "---\n",
    "N개의 자연수가 입력되면 각 자연수를 뒤집은 후 그 뒤집은 수가 소수이면 그 수를 출력하는 프로그램을 작성하세요.\n",
    "\n",
    "예를 들어 32를 뒤집으면 23이고, 23은 소수이다. 그러면 23을 출력한다.\n",
    "\n",
    "단 910를 뒤집으면 19로 숫자화 해야 한다. 첫 자리부터의 연속된 0은 무시한다.\n",
    "\n",
    "뒤집는 함수인 def reverse(x) 와 소수인지를 확인하는 함수 def isPrime(x)를 반드시 작성하여 프로그래밍 한다.\n",
    "\n",
    "---\n",
    "## 입력 설명\n",
    "\n",
    "첫 줄에 자연수의 개수 N(3<=N<=100)이 주어지고, 그 다음 줄에 N개의 자연수가 주어진다.\n",
    "각 자연수의 크기는 100,000를 넘지 않는다.\n",
    "\n",
    "---\n",
    "## 출력 설명\n",
    "\n",
    "첫 줄에 뒤집은 소수를 출력합니다. 출력순서는 입력된 순서대로 출력합니다.\n",
    "\n",
    "---\n",
    "## 입력 예제\n",
    "5 \n",
    "\n",
    "32 55 62 3700 250\n",
    "\n",
    "---\n",
    "## 출력 예제\n",
    "23 73"
   ]
  },
  {
   "cell_type": "code",
   "execution_count": 1,
   "id": "a817b235",
   "metadata": {},
   "outputs": [
    {
     "name": "stdout",
     "output_type": "stream",
     "text": [
      "5\n",
      "32 55 62 3700 250\n",
      "23 73 "
     ]
    }
   ],
   "source": [
    "# 뒤집는 함수\n",
    "def reverse(x):\n",
    "    result = 0\n",
    "    while x>0:\n",
    "        t = x%10 # t = 맨앞자리 수가 될 일의자리 수\n",
    "        result = result*10 + t # 일의자리 수가 십의자리 수가 되고, 새로운 일의자리 수를 더한다.\n",
    "        x = x//10\n",
    "    return result\n",
    "\n",
    "# 소수 확인 함수\n",
    "def isPrime(n):\n",
    "    if n==1:\n",
    "        return False\n",
    "    \n",
    "    i = 2\n",
    "    while i<n:\n",
    "        if n%i==0:\n",
    "            return False\n",
    "        i+=1\n",
    "    \n",
    "    if n==i:\n",
    "        return True\n",
    "\n",
    "n = int(input())\n",
    "n_list = list(map(int, input().split()))\n",
    "\n",
    "for i in n_list:\n",
    "    tmp = reverse(i)\n",
    "    if isPrime(tmp):\n",
    "        print(tmp, end=' ') # 한칸씩 띄워서 print\n"
   ]
  },
  {
   "cell_type": "markdown",
   "id": "65782ca7",
   "metadata": {},
   "source": [
    "---\n",
    "## 코드 설명 및 리뷰\n",
    "\n",
    "자연수를 뒤집는 함수는 0을 처리해야 하기 때문에 문자형으로 변환 후 자리를 바꾸는 방법보다 숫자 그대로 나누는 방법을 이용했다.\n",
    "\n",
    "소수 확인 함수는 2부터 나누기 시작하여 하나씩 더해가며 나눴을 때, 나머지가 존재한다면 소수가 아닌 것으로 판별했다.\n",
    "소수는 1과 자기 자신만으로 나눠질 수 있는 수이다.\n",
    "\n",
    "문제마다 어떤 값을 tmp1, tmp2 등으로 저장해놓고 문제를 해결하는 방식을 많이 쓰는 것 같다.\n",
    "\n",
    "메모리에 대한 문제도 생각해야 하지만 아직 그정도 레벨은 아닌 것 같다.."
   ]
  }
 ],
 "metadata": {
  "kernelspec": {
   "display_name": "Python 3",
   "language": "python",
   "name": "python3"
  },
  "language_info": {
   "codemirror_mode": {
    "name": "ipython",
    "version": 3
   },
   "file_extension": ".py",
   "mimetype": "text/x-python",
   "name": "python",
   "nbconvert_exporter": "python",
   "pygments_lexer": "ipython3",
   "version": "3.8.8"
  }
 },
 "nbformat": 4,
 "nbformat_minor": 5
}
