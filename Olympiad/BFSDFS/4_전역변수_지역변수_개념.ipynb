{
 "cells": [
  {
   "cell_type": "markdown",
   "id": "889c2722",
   "metadata": {},
   "source": [
    "# 전역변수와 지역변수\n",
    "\n",
    "---\n",
    "\n",
    "# 1."
   ]
  },
  {
   "cell_type": "code",
   "execution_count": 2,
   "id": "49db4c41",
   "metadata": {},
   "outputs": [
    {
     "name": "stdout",
     "output_type": "stream",
     "text": [
      "3\n",
      "5\n",
      "5\n"
     ]
    }
   ],
   "source": [
    "def DFS1():\n",
    "    cnt = 3\n",
    "    print(cnt)\n",
    "    \n",
    "def DFS2():\n",
    "    if cnt==5:\n",
    "        print(cnt)\n",
    "        \n",
    "if __name__==\"__main__\":\n",
    "    cnt = 5 \n",
    "    DFS1()\n",
    "    DFS2()\n",
    "    print(cnt)"
   ]
  },
  {
   "cell_type": "markdown",
   "id": "8a2703e9",
   "metadata": {},
   "source": [
    "전역변수는 공용으로 사용하는 공용? 변수이다.\n",
    "\n",
    "지역변수는 함수 내에 있는 것을 먼저 사용하므로 DFS1에서 3을 출력한다.\n",
    "\n",
    "자기자신의 지역변수가 없다면 전역변수를 사용하므로 DFS2에서는 5를 출력한다.\n",
    "\n",
    "---\n",
    "# 2."
   ]
  },
  {
   "cell_type": "code",
   "execution_count": 3,
   "id": "d0bb1d57",
   "metadata": {},
   "outputs": [
    {
     "name": "stdout",
     "output_type": "stream",
     "text": [
      "3\n"
     ]
    },
    {
     "ename": "UnboundLocalError",
     "evalue": "local variable 'cnt' referenced before assignment",
     "output_type": "error",
     "traceback": [
      "\u001b[0;31m---------------------------------------------------------------------------\u001b[0m",
      "\u001b[0;31mUnboundLocalError\u001b[0m                         Traceback (most recent call last)",
      "\u001b[0;32m<ipython-input-3-3238a10bd6c9>\u001b[0m in \u001b[0;36m<module>\u001b[0;34m\u001b[0m\n\u001b[1;32m     11\u001b[0m     \u001b[0mcnt\u001b[0m \u001b[0;34m=\u001b[0m \u001b[0;36m5\u001b[0m\u001b[0;34m\u001b[0m\u001b[0;34m\u001b[0m\u001b[0m\n\u001b[1;32m     12\u001b[0m     \u001b[0mDFS1\u001b[0m\u001b[0;34m(\u001b[0m\u001b[0;34m)\u001b[0m\u001b[0;34m\u001b[0m\u001b[0;34m\u001b[0m\u001b[0m\n\u001b[0;32m---> 13\u001b[0;31m     \u001b[0mDFS2\u001b[0m\u001b[0;34m(\u001b[0m\u001b[0;34m)\u001b[0m\u001b[0;34m\u001b[0m\u001b[0;34m\u001b[0m\u001b[0m\n\u001b[0m\u001b[1;32m     14\u001b[0m     \u001b[0mprint\u001b[0m\u001b[0;34m(\u001b[0m\u001b[0mcnt\u001b[0m\u001b[0;34m)\u001b[0m\u001b[0;34m\u001b[0m\u001b[0;34m\u001b[0m\u001b[0m\n",
      "\u001b[0;32m<ipython-input-3-3238a10bd6c9>\u001b[0m in \u001b[0;36mDFS2\u001b[0;34m()\u001b[0m\n\u001b[1;32m      4\u001b[0m \u001b[0;34m\u001b[0m\u001b[0m\n\u001b[1;32m      5\u001b[0m \u001b[0;32mdef\u001b[0m \u001b[0mDFS2\u001b[0m\u001b[0;34m(\u001b[0m\u001b[0;34m)\u001b[0m\u001b[0;34m:\u001b[0m\u001b[0;34m\u001b[0m\u001b[0;34m\u001b[0m\u001b[0m\n\u001b[0;32m----> 6\u001b[0;31m     \u001b[0;32mif\u001b[0m \u001b[0mcnt\u001b[0m\u001b[0;34m==\u001b[0m\u001b[0;36m5\u001b[0m\u001b[0;34m:\u001b[0m\u001b[0;34m\u001b[0m\u001b[0;34m\u001b[0m\u001b[0m\n\u001b[0m\u001b[1;32m      7\u001b[0m         \u001b[0mcnt\u001b[0m\u001b[0;34m=\u001b[0m\u001b[0mcnt\u001b[0m\u001b[0;34m+\u001b[0m\u001b[0;36m1\u001b[0m \u001b[0;31m### cnt+1 값을 지역변수로 할당하겠다. 즉 새로운 지역변수를 만들겠다.\u001b[0m\u001b[0;34m\u001b[0m\u001b[0;34m\u001b[0m\u001b[0m\n\u001b[1;32m      8\u001b[0m         \u001b[0mprint\u001b[0m\u001b[0;34m(\u001b[0m\u001b[0mcnt\u001b[0m\u001b[0;34m)\u001b[0m\u001b[0;34m\u001b[0m\u001b[0;34m\u001b[0m\u001b[0m\n",
      "\u001b[0;31mUnboundLocalError\u001b[0m: local variable 'cnt' referenced before assignment"
     ]
    }
   ],
   "source": [
    "def DFS1():\n",
    "    cnt = 3\n",
    "    print(cnt)\n",
    "    \n",
    "def DFS2():\n",
    "    if cnt==5:\n",
    "        cnt=cnt+1 ### cnt+1 값을 지역변수로 할당하겠다. 즉 새로운 지역변수를 만들겠다.\n",
    "        print(cnt)\n",
    "        \n",
    "if __name__==\"__main__\":\n",
    "    cnt = 5 \n",
    "    DFS1()\n",
    "    DFS2()\n",
    "    print(cnt)"
   ]
  },
  {
   "cell_type": "markdown",
   "id": "3f18fdec",
   "metadata": {},
   "source": [
    "DFS2에서 cnt가 지역변수로 번역이 됐는데, 지역변수가 없으니 에러가 뜬 것이다.\n",
    "\n",
    "---"
   ]
  },
  {
   "cell_type": "code",
   "execution_count": 4,
   "id": "e192ed76",
   "metadata": {},
   "outputs": [
    {
     "name": "stdout",
     "output_type": "stream",
     "text": [
      "3\n",
      "6\n",
      "6\n"
     ]
    }
   ],
   "source": [
    "def DFS1():\n",
    "    cnt = 3\n",
    "    print(cnt)\n",
    "    \n",
    "def DFS2():\n",
    "    global cnt # cnt는 여기서 전역변수를 사용한다고 interpreter에게 알려준다.\n",
    "    if cnt==5:\n",
    "        cnt=cnt+1 ### cnt+1 값을 지역변수로 할당하겠다. 즉 새로운 지역변수를 만들겠다.\n",
    "        print(cnt)\n",
    "        \n",
    "if __name__==\"__main__\":\n",
    "    cnt = 5 \n",
    "    DFS1()\n",
    "    DFS2()\n",
    "    print(cnt)"
   ]
  },
  {
   "cell_type": "markdown",
   "id": "6e69cc1c",
   "metadata": {},
   "source": [
    "\n",
    "---\n",
    "# 3."
   ]
  },
  {
   "cell_type": "code",
   "execution_count": 5,
   "id": "f2197837",
   "metadata": {},
   "outputs": [
    {
     "name": "stdout",
     "output_type": "stream",
     "text": [
      "[7, 2, 3]\n",
      "[7, 2, 3]\n"
     ]
    }
   ],
   "source": [
    "def DFS():\n",
    "    a[0]=7\n",
    "    print(a)\n",
    "    \n",
    "if __name__==\"__main__\":\n",
    "    a = [1,2,3]\n",
    "    DFS()\n",
    "    print(a)"
   ]
  },
  {
   "cell_type": "markdown",
   "id": "ce52469b",
   "metadata": {},
   "source": [
    "### 왜 리스트의 전역변수는 정상적으로 출력되는가?\n",
    "\n",
    "DFS() 안에서의 a[0]는 새로운 리스트를 형성하는 것으로 번역되는 것이 아니다.\n",
    "\n",
    "0번 인덱스에 있는 변경한다. 그정도 이다. 지역변수를 형성하는 것이 아니다.\n",
    "\n",
    "자동으로 전역 리스트라고 인식된다."
   ]
  },
  {
   "cell_type": "code",
   "execution_count": 6,
   "id": "cf1ea591",
   "metadata": {},
   "outputs": [
    {
     "name": "stdout",
     "output_type": "stream",
     "text": [
      "[7, 8]\n",
      "[1, 2, 3]\n"
     ]
    }
   ],
   "source": [
    "def DFS():\n",
    "    a = [7,8]\n",
    "    print(a)\n",
    "    \n",
    "if __name__==\"__main__\":\n",
    "    a = [1,2,3]\n",
    "    DFS()\n",
    "    print(a)"
   ]
  },
  {
   "cell_type": "markdown",
   "id": "040084ff",
   "metadata": {},
   "source": [
    "함수 안에서 지역 리스트가 생성된다면 그 지역리스트를 출력한다.\n",
    "\n",
    "---"
   ]
  },
  {
   "cell_type": "code",
   "execution_count": 8,
   "id": "fd009aed",
   "metadata": {},
   "outputs": [
    {
     "ename": "UnboundLocalError",
     "evalue": "local variable 'a' referenced before assignment",
     "output_type": "error",
     "traceback": [
      "\u001b[0;31m---------------------------------------------------------------------------\u001b[0m",
      "\u001b[0;31mUnboundLocalError\u001b[0m                         Traceback (most recent call last)",
      "\u001b[0;32m<ipython-input-8-93f0c9ebc16e>\u001b[0m in \u001b[0;36m<module>\u001b[0;34m\u001b[0m\n\u001b[1;32m      6\u001b[0m \u001b[0;32mif\u001b[0m \u001b[0m__name__\u001b[0m\u001b[0;34m==\u001b[0m\u001b[0;34m\"__main__\"\u001b[0m\u001b[0;34m:\u001b[0m\u001b[0;34m\u001b[0m\u001b[0;34m\u001b[0m\u001b[0m\n\u001b[1;32m      7\u001b[0m     \u001b[0ma\u001b[0m \u001b[0;34m=\u001b[0m \u001b[0;34m[\u001b[0m\u001b[0;36m1\u001b[0m\u001b[0;34m,\u001b[0m\u001b[0;36m2\u001b[0m\u001b[0;34m,\u001b[0m\u001b[0;36m3\u001b[0m\u001b[0;34m]\u001b[0m\u001b[0;34m\u001b[0m\u001b[0;34m\u001b[0m\u001b[0m\n\u001b[0;32m----> 8\u001b[0;31m     \u001b[0mDFS\u001b[0m\u001b[0;34m(\u001b[0m\u001b[0;34m)\u001b[0m\u001b[0;34m\u001b[0m\u001b[0;34m\u001b[0m\u001b[0m\n\u001b[0m\u001b[1;32m      9\u001b[0m     \u001b[0mprint\u001b[0m\u001b[0;34m(\u001b[0m\u001b[0ma\u001b[0m\u001b[0;34m)\u001b[0m\u001b[0;34m\u001b[0m\u001b[0;34m\u001b[0m\u001b[0m\n",
      "\u001b[0;32m<ipython-input-8-93f0c9ebc16e>\u001b[0m in \u001b[0;36mDFS\u001b[0;34m()\u001b[0m\n\u001b[1;32m      1\u001b[0m \u001b[0;32mdef\u001b[0m \u001b[0mDFS\u001b[0m\u001b[0;34m(\u001b[0m\u001b[0;34m)\u001b[0m\u001b[0;34m:\u001b[0m\u001b[0;34m\u001b[0m\u001b[0;34m\u001b[0m\u001b[0m\n\u001b[0;32m----> 2\u001b[0;31m     \u001b[0ma\u001b[0m \u001b[0;34m=\u001b[0m \u001b[0ma\u001b[0m \u001b[0;34m+\u001b[0m \u001b[0;34m[\u001b[0m\u001b[0;36m4\u001b[0m\u001b[0;34m]\u001b[0m\u001b[0;34m\u001b[0m\u001b[0;34m\u001b[0m\u001b[0m\n\u001b[0m\u001b[1;32m      3\u001b[0m     \u001b[0;31m#a.append(4)\u001b[0m\u001b[0;34m\u001b[0m\u001b[0;34m\u001b[0m\u001b[0;34m\u001b[0m\u001b[0m\n\u001b[1;32m      4\u001b[0m     \u001b[0mprint\u001b[0m\u001b[0;34m(\u001b[0m\u001b[0ma\u001b[0m\u001b[0;34m)\u001b[0m\u001b[0;34m\u001b[0m\u001b[0;34m\u001b[0m\u001b[0m\n\u001b[1;32m      5\u001b[0m \u001b[0;34m\u001b[0m\u001b[0m\n",
      "\u001b[0;31mUnboundLocalError\u001b[0m: local variable 'a' referenced before assignment"
     ]
    }
   ],
   "source": [
    "def DFS():\n",
    "    a = a + [4]\n",
    "    #a.append(4)\n",
    "    print(a)\n",
    "    \n",
    "if __name__==\"__main__\":\n",
    "    a = [1,2,3]\n",
    "    DFS()\n",
    "    print(a)"
   ]
  },
  {
   "cell_type": "markdown",
   "id": "06cd76e9",
   "metadata": {},
   "source": [
    "a라는 리스트에 아무 것도 할당이 되어있지 않기 때문에 에러가 뜬다.\n",
    "\n",
    "---"
   ]
  },
  {
   "cell_type": "code",
   "execution_count": 11,
   "id": "fba51e4f",
   "metadata": {},
   "outputs": [
    {
     "name": "stdout",
     "output_type": "stream",
     "text": [
      "[1, 2, 3, 4]\n",
      "[1, 2, 3, 4]\n"
     ]
    }
   ],
   "source": [
    "def DFS():\n",
    "    global a\n",
    "    a = a + [4]\n",
    "    #a.append(4)\n",
    "    print(a)\n",
    "    \n",
    "if __name__==\"__main__\":\n",
    "    a = [1,2,3]\n",
    "    DFS()\n",
    "    print(a)"
   ]
  },
  {
   "cell_type": "markdown",
   "id": "45f0050e",
   "metadata": {},
   "source": [
    "전역리스트로 설정해주면 전역리스트로 받아드린다. global"
   ]
  }
 ],
 "metadata": {
  "kernelspec": {
   "display_name": "Python 3",
   "language": "python",
   "name": "python3"
  },
  "language_info": {
   "codemirror_mode": {
    "name": "ipython",
    "version": 3
   },
   "file_extension": ".py",
   "mimetype": "text/x-python",
   "name": "python",
   "nbconvert_exporter": "python",
   "pygments_lexer": "ipython3",
   "version": "3.8.8"
  }
 },
 "nbformat": 4,
 "nbformat_minor": 5
}
