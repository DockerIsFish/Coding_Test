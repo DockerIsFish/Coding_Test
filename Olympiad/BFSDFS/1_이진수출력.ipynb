{
 "cells": [
  {
   "cell_type": "markdown",
   "id": "f14584d9",
   "metadata": {},
   "source": [
    "이진수 출력\n",
    "---\n",
    "\n",
    "### 문제\n",
    "10진수 N이 입력되면 2진수로 변환하여 출력하는 프로그램을 작성하세요. 단 재귀함수를 이용해서 출력해야 합니다.\n",
    "\n",
    "---\n",
    "### 입력 설명\n",
    "첫 번째 줄에 10진수 N(1<=N<=1,000)이 주어집니다.\n",
    "\n",
    "---\n",
    "### 출력설명\n",
    "첫 번째 줄에 이진수를 출력하세요.\n",
    "\n",
    "---\n",
    "### 입력예제 1\n",
    "11\n",
    "\n",
    "---\n",
    "### 출력예제 1\n",
    "\n",
    "1011\n"
   ]
  },
  {
   "cell_type": "markdown",
   "id": "1643e92e",
   "metadata": {},
   "source": [
    "---\n",
    "# 코드"
   ]
  },
  {
   "cell_type": "code",
   "execution_count": 9,
   "id": "5ae0c67f",
   "metadata": {},
   "outputs": [
    {
     "name": "stdout",
     "output_type": "stream",
     "text": [
      "11\n",
      "1011"
     ]
    }
   ],
   "source": [
    "def DFS(x):\n",
    "    m = x//2 # 몫\n",
    "    n = x%2  # 나머지\n",
    "    \n",
    "    if m!=0:\n",
    "        DFS(m)\n",
    "        print(n, end=\"\")\n",
    "    else:\n",
    "        print(n, end=\"\")\n",
    "\n",
    "if __name__==\"__main__\":\n",
    "    n=int(input())\n",
    "    DFS(n)"
   ]
  },
  {
   "cell_type": "markdown",
   "id": "29c51df4",
   "metadata": {},
   "source": [
    "---\n",
    "### 코드리뷰\n",
    "재귀함수를 이용한 문제 풀이이다.\n",
    "\n",
    "2 / 11\n",
    "\n",
    "2 / 5 --- 1\n",
    "\n",
    "2 / 2 --- 1\n",
    "\n",
    "2 / 1 --- 0\n",
    "\n",
    "2 / 0 --- 1\n",
    " \n",
    "\n",
    "몫이 0일 때까지 나눈 후 나머지 값만 모두 출력\n",
    "\n",
    "그러면 스택에 쌓인 나머지가 출력 되어서 2진수로 변환된다."
   ]
  }
 ],
 "metadata": {
  "kernelspec": {
   "display_name": "Python 3",
   "language": "python",
   "name": "python3"
  },
  "language_info": {
   "codemirror_mode": {
    "name": "ipython",
    "version": 3
   },
   "file_extension": ".py",
   "mimetype": "text/x-python",
   "name": "python",
   "nbconvert_exporter": "python",
   "pygments_lexer": "ipython3",
   "version": "3.8.8"
  }
 },
 "nbformat": 4,
 "nbformat_minor": 5
}
