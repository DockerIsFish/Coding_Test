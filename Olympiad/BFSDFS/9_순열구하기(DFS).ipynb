{
 "cells": [
  {
   "cell_type": "markdown",
   "id": "f35e9299",
   "metadata": {},
   "source": [
    "# 순열 구하기\n",
    "\n",
    "1부터 N까지 번호가 적힌 구슬이 있습니다. 이 중 M개를 뽑아 일렬로 나열하는 방법을 모두 출력합니다.\n",
    "\n",
    "---\n",
    "### 입력설명\n",
    "첫 번째 줄에 자연수 N(3<=N<=10)과 M(2<=M<=N) 이 주어집니다.\n",
    "\n",
    "---\n",
    "### 출력설명\n",
    "첫 번째 줄에 결과를 출력합니다. 맨 마지막 총 경우의 수를 출력합니다.\n",
    "\n",
    "출력순서는 사전순으로 오름차순으로 출력합니다.\n",
    "\n",
    "---\n",
    "### 입력예제 1\n",
    "3 2\n",
    "\n",
    "---\n",
    "### 출력예제 1\n",
    "1 2\n",
    "\n",
    "1 3\n",
    "\n",
    "2 1\n",
    "\n",
    "2 3\n",
    "\n",
    "3 1\n",
    "\n",
    "3 2\n",
    "\n",
    "6\n",
    "\n",
    "---\n",
    "## 코드"
   ]
  },
  {
   "cell_type": "code",
   "execution_count": 4,
   "id": "064ec196",
   "metadata": {},
   "outputs": [
    {
     "name": "stdout",
     "output_type": "stream",
     "text": [
      "3 2\n",
      "1 2 \n",
      "1 3 \n",
      "2 1 \n",
      "2 3 \n",
      "3 1 \n",
      "3 2 \n",
      "6\n"
     ]
    }
   ],
   "source": [
    "def dfs(L):\n",
    "    global count\n",
    "    if L==m: # 종착점\n",
    "        for j in range(L):\n",
    "            print(res[j], end=' ')\n",
    "        print()\n",
    "        count+=1\n",
    "    else:\n",
    "        for i in range(1, n+1):\n",
    "            if check[i]==0:# 적용 안되어있을 때\n",
    "                check[i]=1 # 적용을 해주기 위해서 1로 체크해준다\n",
    "                res[L]=i   # 경우의 수 \n",
    "                dfs(L+1)   # 체크를 하고 더 깊이 들어간다. 종착점까지 깊이\n",
    "                check[i]=0 # 다시 체크를 풀어주어야 한다.\n",
    "\n",
    "if __name__==\"__main__\":\n",
    "    n, m = map(int, input().split()) # n개의 구슬 중 m개를 뽑아\n",
    "    res = [0]*n       # 경우의 수가 될 수 있는 리스트\n",
    "    check = [0]*(n+1) # 중복을 방지하기 위한 인덱스 체크용 리스트\n",
    "    count = 0\n",
    "    dfs(0)\n",
    "    print(count)\n",
    "\n",
    "\n"
   ]
  }
 ],
 "metadata": {
  "kernelspec": {
   "display_name": "Python 3",
   "language": "python",
   "name": "python3"
  },
  "language_info": {
   "codemirror_mode": {
    "name": "ipython",
    "version": 3
   },
   "file_extension": ".py",
   "mimetype": "text/x-python",
   "name": "python",
   "nbconvert_exporter": "python",
   "pygments_lexer": "ipython3",
   "version": "3.8.8"
  }
 },
 "nbformat": 4,
 "nbformat_minor": 5
}
