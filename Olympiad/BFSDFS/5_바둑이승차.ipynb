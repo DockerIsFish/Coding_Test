{
 "cells": [
  {
   "cell_type": "markdown",
   "id": "f85233d5",
   "metadata": {},
   "source": [
    "# 바둑이 승차(DFS)\n",
    "\n",
    "철수는 그의 바둑이들을 데리고 시장에 가려고 한다. 그런데 그의 트럭은 C킬로그램 넘게 태울 수가 없다. 철수는 C를 넘지 않으면서 그의 바둑이들을 가장 무겁게 태우고 싶다.\n",
    "\n",
    "N마리의 바둑이와 각 바둑이의 무게 W가 주어지면, 철수가 트럭에 태울 수 있는 가장 무거운 무게를 구하는 프로그램을 작성하세요.\n",
    "\n",
    "---\n",
    "### 입력설명\n",
    "첫 번째 줄에 자연수 C(1<=C<=100,000,000)와 N(1<=N<=30)이 주어집니다.\n",
    "\n",
    "둘째 줄부터 N마리 바둑이의 무게가 주어진다.\n",
    "\n",
    "---\n",
    "### 출력설명\n",
    "첫 번째 줄에 가장 무거운 무게를 출력한다.\n",
    "\n",
    "---\n",
    "### 입력예제 1\n",
    "259 5\n",
    "\n",
    "81\n",
    "\n",
    "58\n",
    "\n",
    "42\n",
    "\n",
    "33\n",
    "\n",
    "61\n",
    "\n",
    "---\n",
    "### 출력예제 1\n",
    "242"
   ]
  },
  {
   "cell_type": "markdown",
   "id": "417ce647",
   "metadata": {},
   "source": [
    "---\n",
    "# 코드"
   ]
  },
  {
   "cell_type": "code",
   "execution_count": 4,
   "id": "cce8b1e7",
   "metadata": {},
   "outputs": [
    {
     "name": "stdout",
     "output_type": "stream",
     "text": [
      "259 5\n",
      "81\n",
      "58\n",
      "42\n",
      "33\n",
      "61\n",
      "275\n"
     ]
    }
   ],
   "source": [
    "### 이렇게 풀면 안된다. \n",
    "\n",
    "c, n = map(int, input().split())\n",
    "a = []\n",
    "for _ in range(n):\n",
    "    a.append(int(input()))\n",
    "\n",
    "a.sort(reverse=True)\n",
    "ans = 0\n",
    "for i in a:\n",
    "    if ans<=c:\n",
    "        ans += i\n",
    "\n",
    "print(ans)"
   ]
  },
  {
   "cell_type": "code",
   "execution_count": 6,
   "id": "1102ba13",
   "metadata": {},
   "outputs": [
    {
     "name": "stdout",
     "output_type": "stream",
     "text": [
      "259 5\n",
      "81\n",
      "58\n",
      "42\n",
      "33\n",
      "61\n",
      "242\n"
     ]
    }
   ],
   "source": [
    "### 각각의 부분집합을 구하고, 총 합을 구하자.\n",
    "from collections import deque\n",
    "\n",
    "def DFS(L, sum): # L: 리스트에 접근하는 각 인덱스 번호, sum: 부분집합의 합\n",
    "    global result\n",
    "    \n",
    "    if sum>c: # sum이 무게 제한을 넘으면 안된다.\n",
    "        return # 넘으면 리턴으로 종료시켜버리기\n",
    "    \n",
    "    if L==n: # 부분집합이 하나 완성된다면\n",
    "        if sum>result:\n",
    "            result=sum\n",
    "    \n",
    "    else:\n",
    "        DFS(L+1, sum+a[L]) # L번째 원소를 부분집합에 참여시키겠다.\n",
    "        DFS(L+1, sum) # L번째 원소를 부분집합에 참여시키지 않겠다.\n",
    "\n",
    "\"\"\"\n",
    "                                      DFS(1, 81)\n",
    "                                      DFS(2, 139)\n",
    "                  DFS(3, 181)                               DFS(3,139) \n",
    "                  /          \\                             /         \\\n",
    "       DFS(4, 214 )           DFS(4,181)           DFS(4,172)         DFS(4,139)\n",
    "         /       \\             /      \\              /      \\         /        \\       \n",
    "DFS(5, 275) DFS(5, 214) DFS(5,242) DFS(5,181) DFS(5,233) DFS(5,172) DFS(5,200) DFS(5,139)\n",
    "\"\"\"\n",
    "\n",
    "if __name__==\"__main__\":\n",
    "    c, n = map(int, input().split())\n",
    "    a = []\n",
    "    result = 0\n",
    "    for _ in range(n):\n",
    "        a.append(int(input()))\n",
    "    \n",
    "    DFS(0, 0)\n",
    "    print(result)"
   ]
  },
  {
   "cell_type": "markdown",
   "id": "85d594bb",
   "metadata": {},
   "source": [
    "### 이렇게 하면 시간 초과가 난다.\n",
    "## Cut Edge를 이용한다."
   ]
  },
  {
   "cell_type": "code",
   "execution_count": 7,
   "id": "5ee703d9",
   "metadata": {},
   "outputs": [
    {
     "name": "stdout",
     "output_type": "stream",
     "text": [
      "259 5\n",
      "81\n",
      "58\n",
      "42\n",
      "33\n",
      "61\n",
      "242\n"
     ]
    }
   ],
   "source": [
    "### 각각의 부분집합을 구하고, 총 합을 구하자.\n",
    "from collections import deque\n",
    "\n",
    "def DFS(L, sum, tsum): # L: 리스트에 접근하는 각 인덱스 번호, sum: 부분집합의 합\n",
    "    global result\n",
    "    \n",
    "    if sum + (total-tsum)<result: # 지금까지 만든 부분집합의 합 + (앞으로 판단해야할 무게) < 현재의 답\n",
    "        return # 더 밑으로 가지를 뻗을 필요가 없다.\n",
    "    \n",
    "    if sum > c: # sum이 무게 제한을 넘으면 안된다.\n",
    "        return # 넘으면 리턴으로 종료시켜버리기\n",
    "    \n",
    "    if L==n: # 부분집합이 하나 완성된다면\n",
    "        if sum > result:\n",
    "            result=sum\n",
    "    \n",
    "    else:\n",
    "        DFS(L+1, sum+a[L], tsum+a[L]) # L번째 원소를 부분집합에 참여시키겠다.\n",
    "        DFS(L+1, sum, tsum+a[L]) # L번째 원소를 부분집합에 참여시키지 않겠다.\n",
    "\n",
    "if __name__==\"__main__\":\n",
    "    c, n = map(int, input().split())\n",
    "    a = []\n",
    "    result = 0\n",
    "    for _ in range(n):\n",
    "        a.append(int(input()))\n",
    "    \n",
    "    total = sum(a)\n",
    "    DFS(0, 0, 0)\n",
    "    print(result)"
   ]
  }
 ],
 "metadata": {
  "kernelspec": {
   "display_name": "Python 3",
   "language": "python",
   "name": "python3"
  },
  "language_info": {
   "codemirror_mode": {
    "name": "ipython",
    "version": 3
   },
   "file_extension": ".py",
   "mimetype": "text/x-python",
   "name": "python",
   "nbconvert_exporter": "python",
   "pygments_lexer": "ipython3",
   "version": "3.8.8"
  }
 },
 "nbformat": 4,
 "nbformat_minor": 5
}
