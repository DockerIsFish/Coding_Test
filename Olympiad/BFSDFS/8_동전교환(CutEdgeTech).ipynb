{
 "cells": [
  {
   "cell_type": "markdown",
   "id": "f9f0eda7",
   "metadata": {},
   "source": [
    "# 동전교환(DFS, Cut-Edge)\n",
    "---\n",
    "다음과 같이 여러 단위의 동전들이 주어져 있을때 거스름돈을 가장 적은 수의 동전으로 교환해주려면 어떻게 주면 되는가? 각 단위의 동전은 무한정 쓸 수 있다.\n",
    "\n",
    "---\n",
    "### 입력설명\n",
    "첫 번째 줄에는 동전의 종류개수 N(1<=N<=12)이 주어진다. 두 번째 줄에는 N개의 동전의 종류가 주어지고, 그 다음줄에 거슬러 줄 금액 M(1<=M<=500)이 주어진다.\n",
    "\n",
    "각 동전의 종류는 100원을 넘지 않는다.\n",
    "\n",
    "---\n",
    "### 출력설명\n",
    "첫 번째 줄에 거슬러 줄 동전의 최소개수를 출력한다.\n",
    "\n",
    "---\n",
    "### 입력예제 1\n",
    "3\n",
    "\n",
    "1 2 5\n",
    "\n",
    "15\n",
    "\n",
    "---\n",
    "### 출력예제 1\n",
    "3\n",
    "\n",
    "\n",
    "설명 : 5 5 5 동전 3개로 거슬러 줄 수 있다.\n",
    "\n",
    "---\n",
    "## 코드"
   ]
  },
  {
   "cell_type": "code",
   "execution_count": 6,
   "id": "9274c4d6",
   "metadata": {},
   "outputs": [
    {
     "name": "stdout",
     "output_type": "stream",
     "text": [
      "3\n",
      "1 2 5\n",
      "15\n",
      "3\n"
     ]
    }
   ],
   "source": [
    "def dfs(L, sum):\n",
    "    global answer\n",
    "    \n",
    "    if L>ans:\n",
    "        return\n",
    "    if sum>m:\n",
    "        return\n",
    "    \n",
    "    if sum==m:\n",
    "        if L<answer:\n",
    "            answer = L\n",
    "    else:\n",
    "        for i in range(n): # 동전 종류의 개수만큼 반복\n",
    "            dfs(L+1, sum+nlist[i])\n",
    "             \n",
    "\n",
    "if __name__==\"__main__\":\n",
    "    n = int(input())\n",
    "    nlist = list(map(int, input().split()))\n",
    "    m = int(input())\n",
    "    answer = 9999\n",
    "    nlist.sort(reverse=True)\n",
    "    dfs(0,0)\n",
    "    print(answer)"
   ]
  },
  {
   "cell_type": "code",
   "execution_count": null,
   "id": "d78a0dcd",
   "metadata": {},
   "outputs": [],
   "source": []
  }
 ],
 "metadata": {
  "kernelspec": {
   "display_name": "Python 3",
   "language": "python",
   "name": "python3"
  },
  "language_info": {
   "codemirror_mode": {
    "name": "ipython",
    "version": 3
   },
   "file_extension": ".py",
   "mimetype": "text/x-python",
   "name": "python",
   "nbconvert_exporter": "python",
   "pygments_lexer": "ipython3",
   "version": "3.8.8"
  }
 },
 "nbformat": 4,
 "nbformat_minor": 5
}
