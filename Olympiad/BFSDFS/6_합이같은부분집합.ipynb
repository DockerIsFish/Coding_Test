{
 "cells": [
  {
   "cell_type": "markdown",
   "id": "e3510931",
   "metadata": {},
   "source": [
    "# 합이 같은 부분집합(DFS : 아마존 인터뷰)\n",
    "\n",
    "N개의 원소로 구성된 자연수 집합이 주어지면, 이 집합을 두 개의 부분집합으로 나누었을 때 두 부분집합의 원소의 합이 서로 같은 경우가 존재하면 “YES\"를 출력하고, 그렇지 않으면 ”NO\"를 출력하는 프로그램을 작성하세요.\n",
    "\n",
    "둘로 나뉘는 두 부분집합은 서로소 집합이며, 두 부분집합을 합하면 입력으로 주어진 원래의 집합이 되어 합니다.\n",
    "\n",
    "예를 들어 {1, 3, 5, 6, 7, 10}이 입력되면 {1, 3, 5, 7} = {6, 10} 으로 두 부분집합의 합이 16으로 같은 경우가 존재하는 것을 알 수 있습니다.\n",
    "\n",
    "---\n",
    "### 입력설명\n",
    "\n",
    "첫 번째 줄에 자연수 N(1<=N<=10)이 주어집니다.\n",
    "\n",
    "두 번째 줄에 집합의 원소 N개가 주어진다. 각 원소는 중복되지 않는다.\n",
    "\n",
    "--- \n",
    "### 출력설명\n",
    "\n",
    "첫 번째 줄에 “YES\" 또는 ”NO\"를 출력한다.\n",
    "\n",
    "---\n",
    "### 입력예제 1\n",
    "6\n",
    "\n",
    "1 3 5 6 7 10\n",
    "\n",
    "---\n",
    "### 출력예제 1\n",
    "\n",
    "YES"
   ]
  },
  {
   "cell_type": "markdown",
   "id": "66500e65",
   "metadata": {},
   "source": [
    "---\n",
    "## 코드"
   ]
  },
  {
   "cell_type": "code",
   "execution_count": 4,
   "id": "ed9e526c",
   "metadata": {},
   "outputs": [
    {
     "name": "stdout",
     "output_type": "stream",
     "text": [
      "6\n",
      "1 3 5 6 7 11\n",
      "NO\n"
     ]
    }
   ],
   "source": [
    "import sys\n",
    "\n",
    "def DFS(L, sum):\n",
    "    if sum>total//2:\n",
    "        return\n",
    "    if L==n:  # 종료지점\n",
    "        if sum==total-sum: # 부분집합의 총합이 나머지의 총합과 같다면\n",
    "            print(\"YES\")\n",
    "            sys.exit(0) # 프로그램 종료\n",
    "    else:\n",
    "        DFS(L+1, sum+a[L]) # 다음 부분집합 인덱스로 넘어감. 선택된 부분집합을 총합에 더한다.\n",
    "        DFS(L+1, sum) # 다음 부분집합 인덱스로 넘어감. 선택된 부분집합을 총합에 포함시키지 않는다.\n",
    "\n",
    "if __name__==\"__main__\":\n",
    "    n = int(input())\n",
    "    a = list(map(int, input().split()))\n",
    "    total = sum(a)\n",
    "    DFS(0, 0)\n",
    "    print(\"NO\")"
   ]
  }
 ],
 "metadata": {
  "kernelspec": {
   "display_name": "Python 3",
   "language": "python",
   "name": "python3"
  },
  "language_info": {
   "codemirror_mode": {
    "name": "ipython",
    "version": 3
   },
   "file_extension": ".py",
   "mimetype": "text/x-python",
   "name": "python",
   "nbconvert_exporter": "python",
   "pygments_lexer": "ipython3",
   "version": "3.8.8"
  }
 },
 "nbformat": 4,
 "nbformat_minor": 5
}
