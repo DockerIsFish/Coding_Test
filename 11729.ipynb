{
 "cells": [
  {
   "cell_type": "code",
   "execution_count": 12,
   "id": "3b2e931e",
   "metadata": {},
   "outputs": [],
   "source": [
    "input = 3"
   ]
  },
  {
   "cell_type": "code",
   "execution_count": 37,
   "id": "26cb752a",
   "metadata": {},
   "outputs": [],
   "source": [
    "arr = [[i for i in range(1,input+1)]"
   ]
  },
  {
   "cell_type": "code",
   "execution_count": 42,
   "id": "af05345a",
   "metadata": {},
   "outputs": [],
   "source": [
    "arr[0].sort(reverse=True)"
   ]
  },
  {
   "cell_type": "code",
   "execution_count": 43,
   "id": "fb6a08be",
   "metadata": {},
   "outputs": [
    {
     "data": {
      "text/plain": [
       "[[3, 2, 1], [], []]"
      ]
     },
     "execution_count": 43,
     "metadata": {},
     "output_type": "execute_result"
    }
   ],
   "source": [
    "arr"
   ]
  },
  {
   "cell_type": "code",
   "execution_count": null,
   "id": "e43d372f",
   "metadata": {},
   "outputs": [],
   "source": []
  }
 ],
 "metadata": {
  "kernelspec": {
   "display_name": "Python 3",
   "language": "python",
   "name": "python3"
  },
  "language_info": {
   "codemirror_mode": {
    "name": "ipython",
    "version": 3
   },
   "file_extension": ".py",
   "mimetype": "text/x-python",
   "name": "python",
   "nbconvert_exporter": "python",
   "pygments_lexer": "ipython3",
   "version": "3.7.11"
  }
 },
 "nbformat": 4,
 "nbformat_minor": 5
}
